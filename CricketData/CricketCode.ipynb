{
 "cells": [
  {
   "cell_type": "code",
   "execution_count": 1,
   "id": "04664570-9198-4cfc-9c55-a225f9b48877",
   "metadata": {},
   "outputs": [
    {
     "data": {
      "text/html": [
       "<div>\n",
       "<style scoped>\n",
       "    .dataframe tbody tr th:only-of-type {\n",
       "        vertical-align: middle;\n",
       "    }\n",
       "\n",
       "    .dataframe tbody tr th {\n",
       "        vertical-align: top;\n",
       "    }\n",
       "\n",
       "    .dataframe thead th {\n",
       "        text-align: right;\n",
       "    }\n",
       "</style>\n",
       "<table border=\"1\" class=\"dataframe\">\n",
       "  <thead>\n",
       "    <tr style=\"text-align: right;\">\n",
       "      <th></th>\n",
       "      <th>Player</th>\n",
       "      <th>Span</th>\n",
       "      <th>Mat</th>\n",
       "      <th>Inns</th>\n",
       "      <th>NO</th>\n",
       "      <th>Runs</th>\n",
       "      <th>HS</th>\n",
       "      <th>Ave</th>\n",
       "      <th>BF</th>\n",
       "      <th>SR</th>\n",
       "      <th>100</th>\n",
       "      <th>50</th>\n",
       "      <th>0</th>\n",
       "      <th>4s</th>\n",
       "      <th>6s</th>\n",
       "    </tr>\n",
       "  </thead>\n",
       "  <tbody>\n",
       "    <tr>\n",
       "      <th>0</th>\n",
       "      <td>DG Bradman (AUS)</td>\n",
       "      <td>1928-1948</td>\n",
       "      <td>52</td>\n",
       "      <td>80</td>\n",
       "      <td>10</td>\n",
       "      <td>6996</td>\n",
       "      <td>334</td>\n",
       "      <td>99.94</td>\n",
       "      <td>9800+</td>\n",
       "      <td>58.60</td>\n",
       "      <td>29</td>\n",
       "      <td>13</td>\n",
       "      <td>7</td>\n",
       "      <td>626+</td>\n",
       "      <td>6</td>\n",
       "    </tr>\n",
       "    <tr>\n",
       "      <th>1</th>\n",
       "      <td>PHKD Mendis (SL)</td>\n",
       "      <td>2022-2025</td>\n",
       "      <td>14</td>\n",
       "      <td>24</td>\n",
       "      <td>3</td>\n",
       "      <td>1316</td>\n",
       "      <td>182*</td>\n",
       "      <td>62.66</td>\n",
       "      <td>2063</td>\n",
       "      <td>63.79</td>\n",
       "      <td>5</td>\n",
       "      <td>5</td>\n",
       "      <td>NaN</td>\n",
       "      <td>137</td>\n",
       "      <td>24</td>\n",
       "    </tr>\n",
       "    <tr>\n",
       "      <th>2</th>\n",
       "      <td>AC Voges (AUS)</td>\n",
       "      <td>2015-2016</td>\n",
       "      <td>20</td>\n",
       "      <td>31</td>\n",
       "      <td>7</td>\n",
       "      <td>1485</td>\n",
       "      <td>269*</td>\n",
       "      <td>61.87</td>\n",
       "      <td>2667</td>\n",
       "      <td>55.68</td>\n",
       "      <td>5</td>\n",
       "      <td>4</td>\n",
       "      <td>2</td>\n",
       "      <td>186</td>\n",
       "      <td>5</td>\n",
       "    </tr>\n",
       "    <tr>\n",
       "      <th>3</th>\n",
       "      <td>RG Pollock (SA)</td>\n",
       "      <td>1963-1970</td>\n",
       "      <td>23</td>\n",
       "      <td>41</td>\n",
       "      <td>4</td>\n",
       "      <td>2256</td>\n",
       "      <td>274</td>\n",
       "      <td>60.97</td>\n",
       "      <td>1707+</td>\n",
       "      <td>54.48</td>\n",
       "      <td>7</td>\n",
       "      <td>11</td>\n",
       "      <td>1</td>\n",
       "      <td>246+</td>\n",
       "      <td>11</td>\n",
       "    </tr>\n",
       "    <tr>\n",
       "      <th>4</th>\n",
       "      <td>GA Headley (WI)</td>\n",
       "      <td>1930-1954</td>\n",
       "      <td>22</td>\n",
       "      <td>40</td>\n",
       "      <td>4</td>\n",
       "      <td>2190</td>\n",
       "      <td>270*</td>\n",
       "      <td>60.83</td>\n",
       "      <td>416+</td>\n",
       "      <td>56.00</td>\n",
       "      <td>10</td>\n",
       "      <td>5</td>\n",
       "      <td>2</td>\n",
       "      <td>104+</td>\n",
       "      <td>1</td>\n",
       "    </tr>\n",
       "  </tbody>\n",
       "</table>\n",
       "</div>"
      ],
      "text/plain": [
       "             Player       Span  Mat  Inns  NO  Runs    HS    Ave     BF  \\\n",
       "0  DG Bradman (AUS)  1928-1948   52    80  10  6996   334  99.94  9800+   \n",
       "1  PHKD Mendis (SL)  2022-2025   14    24   3  1316  182*  62.66   2063   \n",
       "2    AC Voges (AUS)  2015-2016   20    31   7  1485  269*  61.87   2667   \n",
       "3   RG Pollock (SA)  1963-1970   23    41   4  2256   274  60.97  1707+   \n",
       "4   GA Headley (WI)  1930-1954   22    40   4  2190  270*  60.83   416+   \n",
       "\n",
       "      SR  100  50    0    4s  6s  \n",
       "0  58.60   29  13    7  626+   6  \n",
       "1  63.79    5   5  NaN   137  24  \n",
       "2  55.68    5   4    2   186   5  \n",
       "3  54.48    7  11    1  246+  11  \n",
       "4  56.00   10   5    2  104+   1  "
      ]
     },
     "execution_count": 1,
     "metadata": {},
     "output_type": "execute_result"
    }
   ],
   "source": [
    "import pandas as pd\n",
    "cricket = pd.read_csv('cricketdata.csv')\n",
    "cricket.head()"
   ]
  },
  {
   "cell_type": "markdown",
   "id": "e05c44b5-830b-454d-b0a0-aced2d694ded",
   "metadata": {},
   "source": [
    "### Step 1 : Data Profiling "
   ]
  },
  {
   "cell_type": "code",
   "execution_count": 2,
   "id": "898d530d-a7ef-47c2-97e5-c38a03af00b6",
   "metadata": {},
   "outputs": [
    {
     "data": {
      "text/plain": [
       "(63, 15)"
      ]
     },
     "execution_count": 2,
     "metadata": {},
     "output_type": "execute_result"
    }
   ],
   "source": [
    "cricket.shape"
   ]
  },
  {
   "cell_type": "code",
   "execution_count": 3,
   "id": "d3cc6348-01d4-4304-97f7-c0981d5066e0",
   "metadata": {},
   "outputs": [
    {
     "data": {
      "text/plain": [
       "0"
      ]
     },
     "execution_count": 3,
     "metadata": {},
     "output_type": "execute_result"
    }
   ],
   "source": [
    "cricket.duplicated().sum()"
   ]
  },
  {
   "cell_type": "code",
   "execution_count": 4,
   "id": "a8db959d-80f5-4888-a6cc-8177c82bd7ee",
   "metadata": {
    "scrolled": true
   },
   "outputs": [
    {
     "data": {
      "text/plain": [
       "Index(['Player', 'Span', 'Mat', 'Inns', 'NO', 'Runs', 'HS', 'Ave', 'BF', 'SR',\n",
       "       '100', '50', '0', '4s', '6s'],\n",
       "      dtype='object')"
      ]
     },
     "execution_count": 4,
     "metadata": {},
     "output_type": "execute_result"
    }
   ],
   "source": [
    "cricket.columns"
   ]
  },
  {
   "cell_type": "markdown",
   "id": "d357b684-48a4-4983-a58b-84ad39871824",
   "metadata": {},
   "source": [
    "### Step 1 : Rename column headers"
   ]
  },
  {
   "cell_type": "code",
   "execution_count": 5,
   "id": "f1f2ce25-5f65-4638-954f-dd1d7f991ea8",
   "metadata": {},
   "outputs": [],
   "source": [
    "cricket = cricket.rename(columns={\"Mat\":\"Matches\", \"NO\":\"Not_Outs\", \"HS\":\"Highest_Inns_Score\", \"BF\":\"Balls_Faced\", \"SR\":\"Batting_Strike_Rate\"})"
   ]
  },
  {
   "cell_type": "code",
   "execution_count": 6,
   "id": "c950f92d-2a35-4433-a368-a14a057faf6c",
   "metadata": {},
   "outputs": [
    {
     "data": {
      "text/html": [
       "<div>\n",
       "<style scoped>\n",
       "    .dataframe tbody tr th:only-of-type {\n",
       "        vertical-align: middle;\n",
       "    }\n",
       "\n",
       "    .dataframe tbody tr th {\n",
       "        vertical-align: top;\n",
       "    }\n",
       "\n",
       "    .dataframe thead th {\n",
       "        text-align: right;\n",
       "    }\n",
       "</style>\n",
       "<table border=\"1\" class=\"dataframe\">\n",
       "  <thead>\n",
       "    <tr style=\"text-align: right;\">\n",
       "      <th></th>\n",
       "      <th>Player</th>\n",
       "      <th>Span</th>\n",
       "      <th>Matches</th>\n",
       "      <th>Inns</th>\n",
       "      <th>Not_Outs</th>\n",
       "      <th>Runs</th>\n",
       "      <th>Highest_Inns_Score</th>\n",
       "      <th>Ave</th>\n",
       "      <th>Balls_Faced</th>\n",
       "      <th>Batting_Strike_Rate</th>\n",
       "      <th>100</th>\n",
       "      <th>50</th>\n",
       "      <th>0</th>\n",
       "      <th>4s</th>\n",
       "      <th>6s</th>\n",
       "    </tr>\n",
       "  </thead>\n",
       "  <tbody>\n",
       "    <tr>\n",
       "      <th>0</th>\n",
       "      <td>DG Bradman (AUS)</td>\n",
       "      <td>1928-1948</td>\n",
       "      <td>52</td>\n",
       "      <td>80</td>\n",
       "      <td>10</td>\n",
       "      <td>6996</td>\n",
       "      <td>334</td>\n",
       "      <td>99.94</td>\n",
       "      <td>9800+</td>\n",
       "      <td>58.60</td>\n",
       "      <td>29</td>\n",
       "      <td>13</td>\n",
       "      <td>7</td>\n",
       "      <td>626+</td>\n",
       "      <td>6</td>\n",
       "    </tr>\n",
       "    <tr>\n",
       "      <th>1</th>\n",
       "      <td>PHKD Mendis (SL)</td>\n",
       "      <td>2022-2025</td>\n",
       "      <td>14</td>\n",
       "      <td>24</td>\n",
       "      <td>3</td>\n",
       "      <td>1316</td>\n",
       "      <td>182*</td>\n",
       "      <td>62.66</td>\n",
       "      <td>2063</td>\n",
       "      <td>63.79</td>\n",
       "      <td>5</td>\n",
       "      <td>5</td>\n",
       "      <td>NaN</td>\n",
       "      <td>137</td>\n",
       "      <td>24</td>\n",
       "    </tr>\n",
       "    <tr>\n",
       "      <th>2</th>\n",
       "      <td>AC Voges (AUS)</td>\n",
       "      <td>2015-2016</td>\n",
       "      <td>20</td>\n",
       "      <td>31</td>\n",
       "      <td>7</td>\n",
       "      <td>1485</td>\n",
       "      <td>269*</td>\n",
       "      <td>61.87</td>\n",
       "      <td>2667</td>\n",
       "      <td>55.68</td>\n",
       "      <td>5</td>\n",
       "      <td>4</td>\n",
       "      <td>2</td>\n",
       "      <td>186</td>\n",
       "      <td>5</td>\n",
       "    </tr>\n",
       "    <tr>\n",
       "      <th>3</th>\n",
       "      <td>RG Pollock (SA)</td>\n",
       "      <td>1963-1970</td>\n",
       "      <td>23</td>\n",
       "      <td>41</td>\n",
       "      <td>4</td>\n",
       "      <td>2256</td>\n",
       "      <td>274</td>\n",
       "      <td>60.97</td>\n",
       "      <td>1707+</td>\n",
       "      <td>54.48</td>\n",
       "      <td>7</td>\n",
       "      <td>11</td>\n",
       "      <td>1</td>\n",
       "      <td>246+</td>\n",
       "      <td>11</td>\n",
       "    </tr>\n",
       "    <tr>\n",
       "      <th>4</th>\n",
       "      <td>GA Headley (WI)</td>\n",
       "      <td>1930-1954</td>\n",
       "      <td>22</td>\n",
       "      <td>40</td>\n",
       "      <td>4</td>\n",
       "      <td>2190</td>\n",
       "      <td>270*</td>\n",
       "      <td>60.83</td>\n",
       "      <td>416+</td>\n",
       "      <td>56.00</td>\n",
       "      <td>10</td>\n",
       "      <td>5</td>\n",
       "      <td>2</td>\n",
       "      <td>104+</td>\n",
       "      <td>1</td>\n",
       "    </tr>\n",
       "  </tbody>\n",
       "</table>\n",
       "</div>"
      ],
      "text/plain": [
       "             Player       Span  Matches  Inns  Not_Outs  Runs  \\\n",
       "0  DG Bradman (AUS)  1928-1948       52    80        10  6996   \n",
       "1  PHKD Mendis (SL)  2022-2025       14    24         3  1316   \n",
       "2    AC Voges (AUS)  2015-2016       20    31         7  1485   \n",
       "3   RG Pollock (SA)  1963-1970       23    41         4  2256   \n",
       "4   GA Headley (WI)  1930-1954       22    40         4  2190   \n",
       "\n",
       "  Highest_Inns_Score    Ave Balls_Faced  Batting_Strike_Rate  100  50    0  \\\n",
       "0                334  99.94       9800+                58.60   29  13    7   \n",
       "1               182*  62.66        2063                63.79    5   5  NaN   \n",
       "2               269*  61.87        2667                55.68    5   4    2   \n",
       "3                274  60.97       1707+                54.48    7  11    1   \n",
       "4               270*  60.83        416+                56.00   10   5    2   \n",
       "\n",
       "     4s  6s  \n",
       "0  626+   6  \n",
       "1   137  24  \n",
       "2   186   5  \n",
       "3  246+  11  \n",
       "4  104+   1  "
      ]
     },
     "execution_count": 6,
     "metadata": {},
     "output_type": "execute_result"
    }
   ],
   "source": [
    "cricket.head()"
   ]
  },
  {
   "cell_type": "markdown",
   "id": "2063086d-512f-47f0-a4bc-8a9a53bf7e50",
   "metadata": {},
   "source": [
    "### Step 2 : Checking for missing values"
   ]
  },
  {
   "cell_type": "code",
   "execution_count": 7,
   "id": "da120414-2a3e-48c1-9a5c-16ae648df34b",
   "metadata": {
    "scrolled": true
   },
   "outputs": [
    {
     "data": {
      "text/plain": [
       "Player                 False\n",
       "Span                   False\n",
       "Matches                False\n",
       "Inns                   False\n",
       "Not_Outs               False\n",
       "Runs                   False\n",
       "Highest_Inns_Score     False\n",
       "Ave                    False\n",
       "Balls_Faced             True\n",
       "Batting_Strike_Rate     True\n",
       "100                    False\n",
       "50                     False\n",
       "0                       True\n",
       "4s                     False\n",
       "6s                     False\n",
       "dtype: bool"
      ]
     },
     "execution_count": 7,
     "metadata": {},
     "output_type": "execute_result"
    }
   ],
   "source": [
    "cricket.isna().any()"
   ]
  },
  {
   "cell_type": "code",
   "execution_count": 8,
   "id": "1bb9b8da-81e6-4ddc-baa0-4037d831f5f9",
   "metadata": {},
   "outputs": [
    {
     "data": {
      "text/html": [
       "<div>\n",
       "<style scoped>\n",
       "    .dataframe tbody tr th:only-of-type {\n",
       "        vertical-align: middle;\n",
       "    }\n",
       "\n",
       "    .dataframe tbody tr th {\n",
       "        vertical-align: top;\n",
       "    }\n",
       "\n",
       "    .dataframe thead th {\n",
       "        text-align: right;\n",
       "    }\n",
       "</style>\n",
       "<table border=\"1\" class=\"dataframe\">\n",
       "  <thead>\n",
       "    <tr style=\"text-align: right;\">\n",
       "      <th></th>\n",
       "      <th>Player</th>\n",
       "      <th>Span</th>\n",
       "      <th>Matches</th>\n",
       "      <th>Inns</th>\n",
       "      <th>Not_Outs</th>\n",
       "      <th>Runs</th>\n",
       "      <th>Highest_Inns_Score</th>\n",
       "      <th>Ave</th>\n",
       "      <th>Balls_Faced</th>\n",
       "      <th>Batting_Strike_Rate</th>\n",
       "      <th>100</th>\n",
       "      <th>50</th>\n",
       "      <th>0</th>\n",
       "      <th>4s</th>\n",
       "      <th>6s</th>\n",
       "    </tr>\n",
       "  </thead>\n",
       "  <tbody>\n",
       "    <tr>\n",
       "      <th>8</th>\n",
       "      <td>ED Weekes (WI)</td>\n",
       "      <td>1948-1958</td>\n",
       "      <td>48</td>\n",
       "      <td>81</td>\n",
       "      <td>5</td>\n",
       "      <td>4455</td>\n",
       "      <td>207</td>\n",
       "      <td>58.61</td>\n",
       "      <td>NaN</td>\n",
       "      <td>NaN</td>\n",
       "      <td>15</td>\n",
       "      <td>19</td>\n",
       "      <td>6</td>\n",
       "      <td>258+</td>\n",
       "      <td>2</td>\n",
       "    </tr>\n",
       "    <tr>\n",
       "      <th>14</th>\n",
       "      <td>CL Walcott (WI)</td>\n",
       "      <td>1948-1960</td>\n",
       "      <td>44</td>\n",
       "      <td>74</td>\n",
       "      <td>7</td>\n",
       "      <td>3798</td>\n",
       "      <td>220</td>\n",
       "      <td>56.68</td>\n",
       "      <td>NaN</td>\n",
       "      <td>NaN</td>\n",
       "      <td>15</td>\n",
       "      <td>14</td>\n",
       "      <td>1</td>\n",
       "      <td>107+</td>\n",
       "      <td>11</td>\n",
       "    </tr>\n",
       "    <tr>\n",
       "      <th>55</th>\n",
       "      <td>Hon.FS Jackson (ENG)</td>\n",
       "      <td>1893-1905</td>\n",
       "      <td>20</td>\n",
       "      <td>33</td>\n",
       "      <td>4</td>\n",
       "      <td>1415</td>\n",
       "      <td>144*</td>\n",
       "      <td>48.79</td>\n",
       "      <td>NaN</td>\n",
       "      <td>NaN</td>\n",
       "      <td>5</td>\n",
       "      <td>6</td>\n",
       "      <td>3</td>\n",
       "      <td>51+</td>\n",
       "      <td>0</td>\n",
       "    </tr>\n",
       "  </tbody>\n",
       "</table>\n",
       "</div>"
      ],
      "text/plain": [
       "                  Player       Span  Matches  Inns  Not_Outs  Runs  \\\n",
       "8         ED Weekes (WI)  1948-1958       48    81         5  4455   \n",
       "14       CL Walcott (WI)  1948-1960       44    74         7  3798   \n",
       "55  Hon.FS Jackson (ENG)  1893-1905       20    33         4  1415   \n",
       "\n",
       "   Highest_Inns_Score    Ave Balls_Faced  Batting_Strike_Rate  100  50  0  \\\n",
       "8                 207  58.61         NaN                  NaN   15  19  6   \n",
       "14                220  56.68         NaN                  NaN   15  14  1   \n",
       "55               144*  48.79         NaN                  NaN    5   6  3   \n",
       "\n",
       "      4s  6s  \n",
       "8   258+   2  \n",
       "14  107+  11  \n",
       "55   51+   0  "
      ]
     },
     "execution_count": 8,
     "metadata": {},
     "output_type": "execute_result"
    }
   ],
   "source": [
    "cricket[cricket['Balls_Faced'].isna()]"
   ]
  },
  {
   "cell_type": "markdown",
   "id": "0a282e80-115f-4e1e-baf6-080a90b97733",
   "metadata": {},
   "source": [
    "### Step 3 : Replaced nulls with 0"
   ]
  },
  {
   "cell_type": "code",
   "execution_count": 9,
   "id": "24e4f375-7c9d-42c2-8ceb-e8c2a83f0057",
   "metadata": {},
   "outputs": [],
   "source": [
    "cricket['Balls_Faced']=cricket['Balls_Faced'].fillna(0)"
   ]
  },
  {
   "cell_type": "code",
   "execution_count": 10,
   "id": "901f578f-d298-48d5-b021-39965a19a959",
   "metadata": {},
   "outputs": [],
   "source": [
    "cricket['Batting_Strike_Rate']=cricket['Batting_Strike_Rate'].fillna(0)"
   ]
  },
  {
   "cell_type": "code",
   "execution_count": 11,
   "id": "caca7505-af28-4d1d-9da4-98b7b1be52e9",
   "metadata": {},
   "outputs": [
    {
     "data": {
      "text/plain": [
       "Player                 ED Weekes (WI)\n",
       "Span                        1948-1958\n",
       "Matches                            48\n",
       "Inns                               81\n",
       "Not_Outs                            5\n",
       "Runs                             4455\n",
       "Highest_Inns_Score                207\n",
       "Ave                             58.61\n",
       "Balls_Faced                         0\n",
       "Batting_Strike_Rate               0.0\n",
       "100                                15\n",
       "50                                 19\n",
       "0                                   6\n",
       "4s                               258+\n",
       "6s                                  2\n",
       "Name: 8, dtype: object"
      ]
     },
     "execution_count": 11,
     "metadata": {},
     "output_type": "execute_result"
    }
   ],
   "source": [
    "cricket.iloc[8,:]"
   ]
  },
  {
   "cell_type": "code",
   "execution_count": 12,
   "id": "912f86d6-bac4-4109-9385-ca57f4513376",
   "metadata": {},
   "outputs": [
    {
     "data": {
      "text/html": [
       "<div>\n",
       "<style scoped>\n",
       "    .dataframe tbody tr th:only-of-type {\n",
       "        vertical-align: middle;\n",
       "    }\n",
       "\n",
       "    .dataframe tbody tr th {\n",
       "        vertical-align: top;\n",
       "    }\n",
       "\n",
       "    .dataframe thead th {\n",
       "        text-align: right;\n",
       "    }\n",
       "</style>\n",
       "<table border=\"1\" class=\"dataframe\">\n",
       "  <thead>\n",
       "    <tr style=\"text-align: right;\">\n",
       "      <th></th>\n",
       "      <th>Player</th>\n",
       "      <th>Span</th>\n",
       "      <th>Matches</th>\n",
       "      <th>Inns</th>\n",
       "      <th>Not_Outs</th>\n",
       "      <th>Runs</th>\n",
       "      <th>Highest_Inns_Score</th>\n",
       "      <th>Ave</th>\n",
       "      <th>Balls_Faced</th>\n",
       "      <th>Batting_Strike_Rate</th>\n",
       "      <th>100</th>\n",
       "      <th>50</th>\n",
       "      <th>0</th>\n",
       "      <th>4s</th>\n",
       "      <th>6s</th>\n",
       "    </tr>\n",
       "  </thead>\n",
       "  <tbody>\n",
       "    <tr>\n",
       "      <th>8</th>\n",
       "      <td>ED Weekes (WI)</td>\n",
       "      <td>1948-1958</td>\n",
       "      <td>48</td>\n",
       "      <td>81</td>\n",
       "      <td>5</td>\n",
       "      <td>4455</td>\n",
       "      <td>207</td>\n",
       "      <td>58.61</td>\n",
       "      <td>0</td>\n",
       "      <td>0.0</td>\n",
       "      <td>15</td>\n",
       "      <td>19</td>\n",
       "      <td>6</td>\n",
       "      <td>258+</td>\n",
       "      <td>2</td>\n",
       "    </tr>\n",
       "  </tbody>\n",
       "</table>\n",
       "</div>"
      ],
      "text/plain": [
       "           Player       Span  Matches  Inns  Not_Outs  Runs  \\\n",
       "8  ED Weekes (WI)  1948-1958       48    81         5  4455   \n",
       "\n",
       "  Highest_Inns_Score    Ave Balls_Faced  Batting_Strike_Rate  100  50  0  \\\n",
       "8                207  58.61           0                  0.0   15  19  6   \n",
       "\n",
       "     4s 6s  \n",
       "8  258+  2  "
      ]
     },
     "execution_count": 12,
     "metadata": {},
     "output_type": "execute_result"
    }
   ],
   "source": [
    "cricket[cricket['Player']=='ED Weekes (WI)']"
   ]
  },
  {
   "cell_type": "markdown",
   "id": "9f3671e2-4297-4a60-87d2-eba9f6a7597c",
   "metadata": {},
   "source": [
    "### Step 4 : Split 'Span' column and renamed them 'Rookie_Year' and 'Final_Year'"
   ]
  },
  {
   "cell_type": "code",
   "execution_count": 13,
   "id": "11977417-681e-44ff-b4d6-1673289ba239",
   "metadata": {},
   "outputs": [
    {
     "data": {
      "text/plain": [
       "0     [1928, 1948]\n",
       "1     [2022, 2025]\n",
       "2     [2015, 2016]\n",
       "3     [1963, 1970]\n",
       "4     [1930, 1954]\n",
       "          ...     \n",
       "58    [1965, 1981]\n",
       "59    [2002, 2014]\n",
       "60    [1924, 1934]\n",
       "61    [1930, 1938]\n",
       "62    [1928, 1934]\n",
       "Name: Span, Length: 63, dtype: object"
      ]
     },
     "execution_count": 13,
     "metadata": {},
     "output_type": "execute_result"
    }
   ],
   "source": [
    "cricket['Span'].str.split(pat='-')"
   ]
  },
  {
   "cell_type": "code",
   "execution_count": 14,
   "id": "8dca48a3-cbfa-42f5-aa9d-da0231cb707b",
   "metadata": {},
   "outputs": [],
   "source": [
    "cricket['Rookie_Year'] = cricket['Span'].str.split(pat='-').str[0]"
   ]
  },
  {
   "cell_type": "code",
   "execution_count": 15,
   "id": "a7e0dace-7ce5-4061-93a4-1d6765f067f4",
   "metadata": {},
   "outputs": [
    {
     "data": {
      "text/plain": [
       "0     1928\n",
       "1     2022\n",
       "2     2015\n",
       "3     1963\n",
       "4     1930\n",
       "      ... \n",
       "58    1965\n",
       "59    2002\n",
       "60    1924\n",
       "61    1930\n",
       "62    1928\n",
       "Name: Rookie_Year, Length: 63, dtype: object"
      ]
     },
     "execution_count": 15,
     "metadata": {},
     "output_type": "execute_result"
    }
   ],
   "source": [
    "cricket['Rookie_Year']"
   ]
  },
  {
   "cell_type": "code",
   "execution_count": 16,
   "id": "ea94f131-6794-43c7-90dc-cd4c0a58dd73",
   "metadata": {},
   "outputs": [],
   "source": [
    "cricket['Final_Year'] = cricket['Span'].str.split(pat='-').str[1]"
   ]
  },
  {
   "cell_type": "code",
   "execution_count": 17,
   "id": "4a442c85-0e8c-45b5-bea2-b1525280d403",
   "metadata": {},
   "outputs": [
    {
     "data": {
      "text/plain": [
       "0     1948\n",
       "1     2025\n",
       "2     2016\n",
       "3     1970\n",
       "4     1954\n",
       "      ... \n",
       "58    1981\n",
       "59    2014\n",
       "60    1934\n",
       "61    1938\n",
       "62    1934\n",
       "Name: Final_Year, Length: 63, dtype: object"
      ]
     },
     "execution_count": 17,
     "metadata": {},
     "output_type": "execute_result"
    }
   ],
   "source": [
    "cricket['Final_Year']"
   ]
  },
  {
   "cell_type": "markdown",
   "id": "cee37061-51de-4a75-8b86-9025acbbf41f",
   "metadata": {},
   "source": [
    "### Step 5 : Deleted 'Span' column"
   ]
  },
  {
   "cell_type": "code",
   "execution_count": 18,
   "id": "a5f72ff3-18d3-4466-afba-e3b42d96ee70",
   "metadata": {},
   "outputs": [],
   "source": [
    "cricket.drop('Span', axis=1, inplace=True)"
   ]
  },
  {
   "cell_type": "code",
   "execution_count": 19,
   "id": "af0d47aa-e4b8-40f7-b5b2-7f316504a96c",
   "metadata": {},
   "outputs": [
    {
     "data": {
      "text/html": [
       "<div>\n",
       "<style scoped>\n",
       "    .dataframe tbody tr th:only-of-type {\n",
       "        vertical-align: middle;\n",
       "    }\n",
       "\n",
       "    .dataframe tbody tr th {\n",
       "        vertical-align: top;\n",
       "    }\n",
       "\n",
       "    .dataframe thead th {\n",
       "        text-align: right;\n",
       "    }\n",
       "</style>\n",
       "<table border=\"1\" class=\"dataframe\">\n",
       "  <thead>\n",
       "    <tr style=\"text-align: right;\">\n",
       "      <th></th>\n",
       "      <th>Player</th>\n",
       "      <th>Matches</th>\n",
       "      <th>Inns</th>\n",
       "      <th>Not_Outs</th>\n",
       "      <th>Runs</th>\n",
       "      <th>Highest_Inns_Score</th>\n",
       "      <th>Ave</th>\n",
       "      <th>Balls_Faced</th>\n",
       "      <th>Batting_Strike_Rate</th>\n",
       "      <th>100</th>\n",
       "      <th>50</th>\n",
       "      <th>0</th>\n",
       "      <th>4s</th>\n",
       "      <th>6s</th>\n",
       "      <th>Rookie_Year</th>\n",
       "      <th>Final_Year</th>\n",
       "    </tr>\n",
       "  </thead>\n",
       "  <tbody>\n",
       "    <tr>\n",
       "      <th>0</th>\n",
       "      <td>DG Bradman (AUS)</td>\n",
       "      <td>52</td>\n",
       "      <td>80</td>\n",
       "      <td>10</td>\n",
       "      <td>6996</td>\n",
       "      <td>334</td>\n",
       "      <td>99.94</td>\n",
       "      <td>9800+</td>\n",
       "      <td>58.60</td>\n",
       "      <td>29</td>\n",
       "      <td>13</td>\n",
       "      <td>7</td>\n",
       "      <td>626+</td>\n",
       "      <td>6</td>\n",
       "      <td>1928</td>\n",
       "      <td>1948</td>\n",
       "    </tr>\n",
       "    <tr>\n",
       "      <th>1</th>\n",
       "      <td>PHKD Mendis (SL)</td>\n",
       "      <td>14</td>\n",
       "      <td>24</td>\n",
       "      <td>3</td>\n",
       "      <td>1316</td>\n",
       "      <td>182*</td>\n",
       "      <td>62.66</td>\n",
       "      <td>2063</td>\n",
       "      <td>63.79</td>\n",
       "      <td>5</td>\n",
       "      <td>5</td>\n",
       "      <td>NaN</td>\n",
       "      <td>137</td>\n",
       "      <td>24</td>\n",
       "      <td>2022</td>\n",
       "      <td>2025</td>\n",
       "    </tr>\n",
       "    <tr>\n",
       "      <th>2</th>\n",
       "      <td>AC Voges (AUS)</td>\n",
       "      <td>20</td>\n",
       "      <td>31</td>\n",
       "      <td>7</td>\n",
       "      <td>1485</td>\n",
       "      <td>269*</td>\n",
       "      <td>61.87</td>\n",
       "      <td>2667</td>\n",
       "      <td>55.68</td>\n",
       "      <td>5</td>\n",
       "      <td>4</td>\n",
       "      <td>2</td>\n",
       "      <td>186</td>\n",
       "      <td>5</td>\n",
       "      <td>2015</td>\n",
       "      <td>2016</td>\n",
       "    </tr>\n",
       "    <tr>\n",
       "      <th>3</th>\n",
       "      <td>RG Pollock (SA)</td>\n",
       "      <td>23</td>\n",
       "      <td>41</td>\n",
       "      <td>4</td>\n",
       "      <td>2256</td>\n",
       "      <td>274</td>\n",
       "      <td>60.97</td>\n",
       "      <td>1707+</td>\n",
       "      <td>54.48</td>\n",
       "      <td>7</td>\n",
       "      <td>11</td>\n",
       "      <td>1</td>\n",
       "      <td>246+</td>\n",
       "      <td>11</td>\n",
       "      <td>1963</td>\n",
       "      <td>1970</td>\n",
       "    </tr>\n",
       "    <tr>\n",
       "      <th>4</th>\n",
       "      <td>GA Headley (WI)</td>\n",
       "      <td>22</td>\n",
       "      <td>40</td>\n",
       "      <td>4</td>\n",
       "      <td>2190</td>\n",
       "      <td>270*</td>\n",
       "      <td>60.83</td>\n",
       "      <td>416+</td>\n",
       "      <td>56.00</td>\n",
       "      <td>10</td>\n",
       "      <td>5</td>\n",
       "      <td>2</td>\n",
       "      <td>104+</td>\n",
       "      <td>1</td>\n",
       "      <td>1930</td>\n",
       "      <td>1954</td>\n",
       "    </tr>\n",
       "  </tbody>\n",
       "</table>\n",
       "</div>"
      ],
      "text/plain": [
       "             Player  Matches  Inns  Not_Outs  Runs Highest_Inns_Score    Ave  \\\n",
       "0  DG Bradman (AUS)       52    80        10  6996                334  99.94   \n",
       "1  PHKD Mendis (SL)       14    24         3  1316               182*  62.66   \n",
       "2    AC Voges (AUS)       20    31         7  1485               269*  61.87   \n",
       "3   RG Pollock (SA)       23    41         4  2256                274  60.97   \n",
       "4   GA Headley (WI)       22    40         4  2190               270*  60.83   \n",
       "\n",
       "  Balls_Faced  Batting_Strike_Rate  100  50    0    4s  6s Rookie_Year  \\\n",
       "0       9800+                58.60   29  13    7  626+   6        1928   \n",
       "1        2063                63.79    5   5  NaN   137  24        2022   \n",
       "2        2667                55.68    5   4    2   186   5        2015   \n",
       "3       1707+                54.48    7  11    1  246+  11        1963   \n",
       "4        416+                56.00   10   5    2  104+   1        1930   \n",
       "\n",
       "  Final_Year  \n",
       "0       1948  \n",
       "1       2025  \n",
       "2       2016  \n",
       "3       1970  \n",
       "4       1954  "
      ]
     },
     "execution_count": 19,
     "metadata": {},
     "output_type": "execute_result"
    }
   ],
   "source": [
    "cricket.head()"
   ]
  },
  {
   "cell_type": "markdown",
   "id": "77bea46c-d98b-4567-8c7c-76dbd732f8a6",
   "metadata": {},
   "source": [
    "### Step 6 : Split 'Player' column to 'Player_Name' and 'Country'"
   ]
  },
  {
   "cell_type": "code",
   "execution_count": 20,
   "id": "7870b2ea-9335-48b9-bea1-2d108386a7c2",
   "metadata": {},
   "outputs": [
    {
     "data": {
      "text/plain": [
       "0      [DG Bradman , AUS)]\n",
       "1      [PHKD Mendis , SL)]\n",
       "2        [AC Voges , AUS)]\n",
       "3       [RG Pollock , SA)]\n",
       "4       [GA Headley , WI)]\n",
       "              ...         \n",
       "58     [KD Walters , AUS)]\n",
       "59    [GC Smith , ICC/SA)]\n",
       "60    [WH Ponsford , AUS)]\n",
       "61      [SJ McCabe , AUS)]\n",
       "62     [DR Jardine , ENG)]\n",
       "Name: Player, Length: 63, dtype: object"
      ]
     },
     "execution_count": 20,
     "metadata": {},
     "output_type": "execute_result"
    }
   ],
   "source": [
    "cricket['Player'].str.split(pat='(')"
   ]
  },
  {
   "cell_type": "code",
   "execution_count": 21,
   "id": "353cb099-e935-4cae-ae63-02a0da50cc92",
   "metadata": {},
   "outputs": [
    {
     "data": {
      "text/plain": [
       "0      [DG Bradman , AUS)]\n",
       "1      [PHKD Mendis , SL)]\n",
       "2        [AC Voges , AUS)]\n",
       "3       [RG Pollock , SA)]\n",
       "4       [GA Headley , WI)]\n",
       "              ...         \n",
       "58     [KD Walters , AUS)]\n",
       "59    [GC Smith , ICC/SA)]\n",
       "60    [WH Ponsford , AUS)]\n",
       "61      [SJ McCabe , AUS)]\n",
       "62     [DR Jardine , ENG)]\n",
       "Name: Player, Length: 63, dtype: object"
      ]
     },
     "execution_count": 21,
     "metadata": {},
     "output_type": "execute_result"
    }
   ],
   "source": [
    "cricket['Player'].str.split(pat = '(')"
   ]
  },
  {
   "cell_type": "code",
   "execution_count": 22,
   "id": "a03a31ce-599b-4683-8015-a06845e6a287",
   "metadata": {},
   "outputs": [],
   "source": [
    "cricket['Country'] = cricket['Player'].str.split(pat = '(').str[1]"
   ]
  },
  {
   "cell_type": "code",
   "execution_count": 23,
   "id": "c921b94b-136e-43f9-9448-fd5c0a4b8a04",
   "metadata": {},
   "outputs": [],
   "source": [
    "cricket['Country'] = cricket['Country'].str.strip(')')"
   ]
  },
  {
   "cell_type": "code",
   "execution_count": 24,
   "id": "9d78a8c8-b7cd-4c7a-a0c2-4ad751052513",
   "metadata": {},
   "outputs": [
    {
     "data": {
      "text/html": [
       "<div>\n",
       "<style scoped>\n",
       "    .dataframe tbody tr th:only-of-type {\n",
       "        vertical-align: middle;\n",
       "    }\n",
       "\n",
       "    .dataframe tbody tr th {\n",
       "        vertical-align: top;\n",
       "    }\n",
       "\n",
       "    .dataframe thead th {\n",
       "        text-align: right;\n",
       "    }\n",
       "</style>\n",
       "<table border=\"1\" class=\"dataframe\">\n",
       "  <thead>\n",
       "    <tr style=\"text-align: right;\">\n",
       "      <th></th>\n",
       "      <th>Player</th>\n",
       "      <th>Matches</th>\n",
       "      <th>Inns</th>\n",
       "      <th>Not_Outs</th>\n",
       "      <th>Runs</th>\n",
       "      <th>Highest_Inns_Score</th>\n",
       "      <th>Ave</th>\n",
       "      <th>Balls_Faced</th>\n",
       "      <th>Batting_Strike_Rate</th>\n",
       "      <th>100</th>\n",
       "      <th>50</th>\n",
       "      <th>0</th>\n",
       "      <th>4s</th>\n",
       "      <th>6s</th>\n",
       "      <th>Rookie_Year</th>\n",
       "      <th>Final_Year</th>\n",
       "      <th>Country</th>\n",
       "    </tr>\n",
       "  </thead>\n",
       "  <tbody>\n",
       "    <tr>\n",
       "      <th>0</th>\n",
       "      <td>DG Bradman (AUS)</td>\n",
       "      <td>52</td>\n",
       "      <td>80</td>\n",
       "      <td>10</td>\n",
       "      <td>6996</td>\n",
       "      <td>334</td>\n",
       "      <td>99.94</td>\n",
       "      <td>9800+</td>\n",
       "      <td>58.60</td>\n",
       "      <td>29</td>\n",
       "      <td>13</td>\n",
       "      <td>7</td>\n",
       "      <td>626+</td>\n",
       "      <td>6</td>\n",
       "      <td>1928</td>\n",
       "      <td>1948</td>\n",
       "      <td>AUS</td>\n",
       "    </tr>\n",
       "    <tr>\n",
       "      <th>1</th>\n",
       "      <td>PHKD Mendis (SL)</td>\n",
       "      <td>14</td>\n",
       "      <td>24</td>\n",
       "      <td>3</td>\n",
       "      <td>1316</td>\n",
       "      <td>182*</td>\n",
       "      <td>62.66</td>\n",
       "      <td>2063</td>\n",
       "      <td>63.79</td>\n",
       "      <td>5</td>\n",
       "      <td>5</td>\n",
       "      <td>NaN</td>\n",
       "      <td>137</td>\n",
       "      <td>24</td>\n",
       "      <td>2022</td>\n",
       "      <td>2025</td>\n",
       "      <td>SL</td>\n",
       "    </tr>\n",
       "    <tr>\n",
       "      <th>2</th>\n",
       "      <td>AC Voges (AUS)</td>\n",
       "      <td>20</td>\n",
       "      <td>31</td>\n",
       "      <td>7</td>\n",
       "      <td>1485</td>\n",
       "      <td>269*</td>\n",
       "      <td>61.87</td>\n",
       "      <td>2667</td>\n",
       "      <td>55.68</td>\n",
       "      <td>5</td>\n",
       "      <td>4</td>\n",
       "      <td>2</td>\n",
       "      <td>186</td>\n",
       "      <td>5</td>\n",
       "      <td>2015</td>\n",
       "      <td>2016</td>\n",
       "      <td>AUS</td>\n",
       "    </tr>\n",
       "    <tr>\n",
       "      <th>3</th>\n",
       "      <td>RG Pollock (SA)</td>\n",
       "      <td>23</td>\n",
       "      <td>41</td>\n",
       "      <td>4</td>\n",
       "      <td>2256</td>\n",
       "      <td>274</td>\n",
       "      <td>60.97</td>\n",
       "      <td>1707+</td>\n",
       "      <td>54.48</td>\n",
       "      <td>7</td>\n",
       "      <td>11</td>\n",
       "      <td>1</td>\n",
       "      <td>246+</td>\n",
       "      <td>11</td>\n",
       "      <td>1963</td>\n",
       "      <td>1970</td>\n",
       "      <td>SA</td>\n",
       "    </tr>\n",
       "    <tr>\n",
       "      <th>4</th>\n",
       "      <td>GA Headley (WI)</td>\n",
       "      <td>22</td>\n",
       "      <td>40</td>\n",
       "      <td>4</td>\n",
       "      <td>2190</td>\n",
       "      <td>270*</td>\n",
       "      <td>60.83</td>\n",
       "      <td>416+</td>\n",
       "      <td>56.00</td>\n",
       "      <td>10</td>\n",
       "      <td>5</td>\n",
       "      <td>2</td>\n",
       "      <td>104+</td>\n",
       "      <td>1</td>\n",
       "      <td>1930</td>\n",
       "      <td>1954</td>\n",
       "      <td>WI</td>\n",
       "    </tr>\n",
       "  </tbody>\n",
       "</table>\n",
       "</div>"
      ],
      "text/plain": [
       "             Player  Matches  Inns  Not_Outs  Runs Highest_Inns_Score    Ave  \\\n",
       "0  DG Bradman (AUS)       52    80        10  6996                334  99.94   \n",
       "1  PHKD Mendis (SL)       14    24         3  1316               182*  62.66   \n",
       "2    AC Voges (AUS)       20    31         7  1485               269*  61.87   \n",
       "3   RG Pollock (SA)       23    41         4  2256                274  60.97   \n",
       "4   GA Headley (WI)       22    40         4  2190               270*  60.83   \n",
       "\n",
       "  Balls_Faced  Batting_Strike_Rate  100  50    0    4s  6s Rookie_Year  \\\n",
       "0       9800+                58.60   29  13    7  626+   6        1928   \n",
       "1        2063                63.79    5   5  NaN   137  24        2022   \n",
       "2        2667                55.68    5   4    2   186   5        2015   \n",
       "3       1707+                54.48    7  11    1  246+  11        1963   \n",
       "4        416+                56.00   10   5    2  104+   1        1930   \n",
       "\n",
       "  Final_Year Country  \n",
       "0       1948     AUS  \n",
       "1       2025      SL  \n",
       "2       2016     AUS  \n",
       "3       1970      SA  \n",
       "4       1954      WI  "
      ]
     },
     "execution_count": 24,
     "metadata": {},
     "output_type": "execute_result"
    }
   ],
   "source": [
    "cricket.head()"
   ]
  },
  {
   "cell_type": "code",
   "execution_count": 25,
   "id": "92ed7276-457d-4945-96c3-b8f80486175f",
   "metadata": {},
   "outputs": [],
   "source": [
    "cricket['Player'] = cricket['Player'].str.split(pat = '(').str[0]"
   ]
  },
  {
   "cell_type": "code",
   "execution_count": 26,
   "id": "bb74232f-6a23-4d39-be23-70b581556efe",
   "metadata": {
    "scrolled": true
   },
   "outputs": [
    {
     "data": {
      "text/html": [
       "<div>\n",
       "<style scoped>\n",
       "    .dataframe tbody tr th:only-of-type {\n",
       "        vertical-align: middle;\n",
       "    }\n",
       "\n",
       "    .dataframe tbody tr th {\n",
       "        vertical-align: top;\n",
       "    }\n",
       "\n",
       "    .dataframe thead th {\n",
       "        text-align: right;\n",
       "    }\n",
       "</style>\n",
       "<table border=\"1\" class=\"dataframe\">\n",
       "  <thead>\n",
       "    <tr style=\"text-align: right;\">\n",
       "      <th></th>\n",
       "      <th>Player</th>\n",
       "      <th>Matches</th>\n",
       "      <th>Inns</th>\n",
       "      <th>Not_Outs</th>\n",
       "      <th>Runs</th>\n",
       "      <th>Highest_Inns_Score</th>\n",
       "      <th>Ave</th>\n",
       "      <th>Balls_Faced</th>\n",
       "      <th>Batting_Strike_Rate</th>\n",
       "      <th>100</th>\n",
       "      <th>50</th>\n",
       "      <th>0</th>\n",
       "      <th>4s</th>\n",
       "      <th>6s</th>\n",
       "      <th>Rookie_Year</th>\n",
       "      <th>Final_Year</th>\n",
       "      <th>Country</th>\n",
       "    </tr>\n",
       "  </thead>\n",
       "  <tbody>\n",
       "    <tr>\n",
       "      <th>0</th>\n",
       "      <td>DG Bradman</td>\n",
       "      <td>52</td>\n",
       "      <td>80</td>\n",
       "      <td>10</td>\n",
       "      <td>6996</td>\n",
       "      <td>334</td>\n",
       "      <td>99.94</td>\n",
       "      <td>9800+</td>\n",
       "      <td>58.60</td>\n",
       "      <td>29</td>\n",
       "      <td>13</td>\n",
       "      <td>7</td>\n",
       "      <td>626+</td>\n",
       "      <td>6</td>\n",
       "      <td>1928</td>\n",
       "      <td>1948</td>\n",
       "      <td>AUS</td>\n",
       "    </tr>\n",
       "    <tr>\n",
       "      <th>1</th>\n",
       "      <td>PHKD Mendis</td>\n",
       "      <td>14</td>\n",
       "      <td>24</td>\n",
       "      <td>3</td>\n",
       "      <td>1316</td>\n",
       "      <td>182*</td>\n",
       "      <td>62.66</td>\n",
       "      <td>2063</td>\n",
       "      <td>63.79</td>\n",
       "      <td>5</td>\n",
       "      <td>5</td>\n",
       "      <td>NaN</td>\n",
       "      <td>137</td>\n",
       "      <td>24</td>\n",
       "      <td>2022</td>\n",
       "      <td>2025</td>\n",
       "      <td>SL</td>\n",
       "    </tr>\n",
       "    <tr>\n",
       "      <th>2</th>\n",
       "      <td>AC Voges</td>\n",
       "      <td>20</td>\n",
       "      <td>31</td>\n",
       "      <td>7</td>\n",
       "      <td>1485</td>\n",
       "      <td>269*</td>\n",
       "      <td>61.87</td>\n",
       "      <td>2667</td>\n",
       "      <td>55.68</td>\n",
       "      <td>5</td>\n",
       "      <td>4</td>\n",
       "      <td>2</td>\n",
       "      <td>186</td>\n",
       "      <td>5</td>\n",
       "      <td>2015</td>\n",
       "      <td>2016</td>\n",
       "      <td>AUS</td>\n",
       "    </tr>\n",
       "    <tr>\n",
       "      <th>3</th>\n",
       "      <td>RG Pollock</td>\n",
       "      <td>23</td>\n",
       "      <td>41</td>\n",
       "      <td>4</td>\n",
       "      <td>2256</td>\n",
       "      <td>274</td>\n",
       "      <td>60.97</td>\n",
       "      <td>1707+</td>\n",
       "      <td>54.48</td>\n",
       "      <td>7</td>\n",
       "      <td>11</td>\n",
       "      <td>1</td>\n",
       "      <td>246+</td>\n",
       "      <td>11</td>\n",
       "      <td>1963</td>\n",
       "      <td>1970</td>\n",
       "      <td>SA</td>\n",
       "    </tr>\n",
       "    <tr>\n",
       "      <th>4</th>\n",
       "      <td>GA Headley</td>\n",
       "      <td>22</td>\n",
       "      <td>40</td>\n",
       "      <td>4</td>\n",
       "      <td>2190</td>\n",
       "      <td>270*</td>\n",
       "      <td>60.83</td>\n",
       "      <td>416+</td>\n",
       "      <td>56.00</td>\n",
       "      <td>10</td>\n",
       "      <td>5</td>\n",
       "      <td>2</td>\n",
       "      <td>104+</td>\n",
       "      <td>1</td>\n",
       "      <td>1930</td>\n",
       "      <td>1954</td>\n",
       "      <td>WI</td>\n",
       "    </tr>\n",
       "  </tbody>\n",
       "</table>\n",
       "</div>"
      ],
      "text/plain": [
       "         Player  Matches  Inns  Not_Outs  Runs Highest_Inns_Score    Ave  \\\n",
       "0   DG Bradman        52    80        10  6996                334  99.94   \n",
       "1  PHKD Mendis        14    24         3  1316               182*  62.66   \n",
       "2     AC Voges        20    31         7  1485               269*  61.87   \n",
       "3   RG Pollock        23    41         4  2256                274  60.97   \n",
       "4   GA Headley        22    40         4  2190               270*  60.83   \n",
       "\n",
       "  Balls_Faced  Batting_Strike_Rate  100  50    0    4s  6s Rookie_Year  \\\n",
       "0       9800+                58.60   29  13    7  626+   6        1928   \n",
       "1        2063                63.79    5   5  NaN   137  24        2022   \n",
       "2        2667                55.68    5   4    2   186   5        2015   \n",
       "3       1707+                54.48    7  11    1  246+  11        1963   \n",
       "4        416+                56.00   10   5    2  104+   1        1930   \n",
       "\n",
       "  Final_Year Country  \n",
       "0       1948     AUS  \n",
       "1       2025      SL  \n",
       "2       2016     AUS  \n",
       "3       1970      SA  \n",
       "4       1954      WI  "
      ]
     },
     "execution_count": 26,
     "metadata": {},
     "output_type": "execute_result"
    }
   ],
   "source": [
    "cricket.head()"
   ]
  },
  {
   "cell_type": "markdown",
   "id": "715611df-e9d7-49fc-89cc-1b69024e262d",
   "metadata": {},
   "source": [
    "### Step 6 : Check datatypes, converted Rookie_Year and Final_Year to numeric"
   ]
  },
  {
   "cell_type": "code",
   "execution_count": 27,
   "id": "34cedf79-4ea3-42d4-940e-ccb5039575ef",
   "metadata": {},
   "outputs": [
    {
     "data": {
      "text/plain": [
       "Player                  object\n",
       "Matches                  int64\n",
       "Inns                     int64\n",
       "Not_Outs                 int64\n",
       "Runs                     int64\n",
       "Highest_Inns_Score      object\n",
       "Ave                    float64\n",
       "Balls_Faced             object\n",
       "Batting_Strike_Rate    float64\n",
       "100                      int64\n",
       "50                       int64\n",
       "0                       object\n",
       "4s                      object\n",
       "6s                      object\n",
       "Rookie_Year             object\n",
       "Final_Year              object\n",
       "Country                 object\n",
       "dtype: object"
      ]
     },
     "execution_count": 27,
     "metadata": {},
     "output_type": "execute_result"
    }
   ],
   "source": [
    "cricket.dtypes"
   ]
  },
  {
   "cell_type": "code",
   "execution_count": 28,
   "id": "a8918440-9648-4457-820d-5e0bfdf79092",
   "metadata": {},
   "outputs": [],
   "source": [
    "cricket['Highest_Inns_Score'] = pd.to_numeric(cricket['Highest_Inns_Score'].str.strip('*'))"
   ]
  },
  {
   "cell_type": "code",
   "execution_count": 29,
   "id": "2af587ae-4303-4545-8ca9-3052521ae80f",
   "metadata": {},
   "outputs": [
    {
     "data": {
      "text/plain": [
       "Player                  object\n",
       "Matches                  int64\n",
       "Inns                     int64\n",
       "Not_Outs                 int64\n",
       "Runs                     int64\n",
       "Highest_Inns_Score       int64\n",
       "Ave                    float64\n",
       "Balls_Faced             object\n",
       "Batting_Strike_Rate    float64\n",
       "100                      int64\n",
       "50                       int64\n",
       "0                       object\n",
       "4s                      object\n",
       "6s                      object\n",
       "Rookie_Year             object\n",
       "Final_Year              object\n",
       "Country                 object\n",
       "dtype: object"
      ]
     },
     "execution_count": 29,
     "metadata": {},
     "output_type": "execute_result"
    }
   ],
   "source": [
    "cricket.dtypes"
   ]
  },
  {
   "cell_type": "code",
   "execution_count": 30,
   "id": "91c705be-b111-460b-b64c-54b905aacc27",
   "metadata": {},
   "outputs": [],
   "source": [
    "cricket['Rookie_Year'] = pd.to_numeric(cricket['Rookie_Year'])"
   ]
  },
  {
   "cell_type": "code",
   "execution_count": 31,
   "id": "ff4aee41-02c2-4f0c-9cfb-9fb4c88c7fc4",
   "metadata": {},
   "outputs": [
    {
     "data": {
      "text/plain": [
       "dtype('int64')"
      ]
     },
     "execution_count": 31,
     "metadata": {},
     "output_type": "execute_result"
    }
   ],
   "source": [
    "cricket['Rookie_Year'].dtypes"
   ]
  },
  {
   "cell_type": "code",
   "execution_count": 32,
   "id": "7789769a-e661-4a5b-89c2-81edc7c210a3",
   "metadata": {},
   "outputs": [],
   "source": [
    "cricket['Final_Year'] = pd.to_numeric(cricket['Final_Year'])"
   ]
  },
  {
   "cell_type": "code",
   "execution_count": 33,
   "id": "d1ceab1d-b398-45e0-ae09-df98d24fc411",
   "metadata": {},
   "outputs": [
    {
     "data": {
      "text/plain": [
       "Player                  object\n",
       "Matches                  int64\n",
       "Inns                     int64\n",
       "Not_Outs                 int64\n",
       "Runs                     int64\n",
       "Highest_Inns_Score       int64\n",
       "Ave                    float64\n",
       "Balls_Faced             object\n",
       "Batting_Strike_Rate    float64\n",
       "100                      int64\n",
       "50                       int64\n",
       "0                       object\n",
       "4s                      object\n",
       "6s                      object\n",
       "Rookie_Year              int64\n",
       "Final_Year               int64\n",
       "Country                 object\n",
       "dtype: object"
      ]
     },
     "execution_count": 33,
     "metadata": {},
     "output_type": "execute_result"
    }
   ],
   "source": [
    "cricket.dtypes"
   ]
  },
  {
   "cell_type": "markdown",
   "id": "19c9e651-214f-418f-8621-c2804e3faf2b",
   "metadata": {},
   "source": [
    "### Step 7 : Replace '-' with Not a Number in column 0 and converting it to integer"
   ]
  },
  {
   "cell_type": "code",
   "execution_count": 34,
   "id": "fda622b9-6b50-4be6-8308-c39b0596218f",
   "metadata": {},
   "outputs": [],
   "source": [
    "import numpy as np\n",
    "cricket['0'] = cricket['0'].replace('-', np.nan).fillna(0).astype('int')"
   ]
  },
  {
   "cell_type": "code",
   "execution_count": 35,
   "id": "83df32bd-0ff1-4f61-b977-22c5c59a5849",
   "metadata": {},
   "outputs": [
    {
     "data": {
      "text/plain": [
       "dtype('int64')"
      ]
     },
     "execution_count": 35,
     "metadata": {},
     "output_type": "execute_result"
    }
   ],
   "source": [
    "cricket['0'].dtypes"
   ]
  },
  {
   "cell_type": "code",
   "execution_count": 36,
   "id": "5d9f813d-23d4-4c14-9dc1-66b96e36e1b8",
   "metadata": {},
   "outputs": [
    {
     "data": {
      "text/plain": [
       "Player                  object\n",
       "Matches                  int64\n",
       "Inns                     int64\n",
       "Not_Outs                 int64\n",
       "Runs                     int64\n",
       "Highest_Inns_Score       int64\n",
       "Ave                    float64\n",
       "Balls_Faced             object\n",
       "Batting_Strike_Rate    float64\n",
       "100                      int64\n",
       "50                       int64\n",
       "0                        int64\n",
       "4s                      object\n",
       "6s                      object\n",
       "Rookie_Year              int64\n",
       "Final_Year               int64\n",
       "Country                 object\n",
       "dtype: object"
      ]
     },
     "execution_count": 36,
     "metadata": {},
     "output_type": "execute_result"
    }
   ],
   "source": [
    "cricket.dtypes"
   ]
  },
  {
   "cell_type": "markdown",
   "id": "ad1d6ba8-85da-4db2-bf34-0fa8b098312e",
   "metadata": {},
   "source": [
    "### Step 8 : Removing characters in columns 6s and Balls_Faced and converting them to integer"
   ]
  },
  {
   "cell_type": "code",
   "execution_count": 37,
   "id": "69858c99-fec6-4b5d-a077-5260cd605cd5",
   "metadata": {},
   "outputs": [],
   "source": [
    "cricket['6s'] = cricket['6s'].str.strip('+').astype('int')"
   ]
  },
  {
   "cell_type": "code",
   "execution_count": 50,
   "id": "2f7c1ca0-12dd-4adc-9817-99574d2eb72f",
   "metadata": {},
   "outputs": [],
   "source": [
    "cricket['4s'] = cricket['4s'].str.strip('+').astype('int')"
   ]
  },
  {
   "cell_type": "code",
   "execution_count": 38,
   "id": "8165e583-32fe-443e-867f-be7a61a46bed",
   "metadata": {},
   "outputs": [],
   "source": [
    "cricket['Balls_Faced'] = cricket['Balls_Faced'].str.strip('+')"
   ]
  },
  {
   "cell_type": "code",
   "execution_count": 39,
   "id": "6af33588-99b3-45b5-bc05-d3fa91ead267",
   "metadata": {},
   "outputs": [],
   "source": [
    "mean = cricket['Balls_Faced'].fillna(0).astype('int').mean()"
   ]
  },
  {
   "cell_type": "code",
   "execution_count": 40,
   "id": "99004d9c-53e2-48a6-9267-324210b66b84",
   "metadata": {},
   "outputs": [
    {
     "data": {
      "text/plain": [
       "0      9800\n",
       "1      2063\n",
       "2      2667\n",
       "3      1707\n",
       "4       416\n",
       "      ...  \n",
       "58     8662\n",
       "59    15525\n",
       "60     3118\n",
       "61     3217\n",
       "62     2110\n",
       "Name: Balls_Faced, Length: 63, dtype: object"
      ]
     },
     "execution_count": 40,
     "metadata": {},
     "output_type": "execute_result"
    }
   ],
   "source": [
    "cricket['Balls_Faced'].replace(0,mean)"
   ]
  },
  {
   "cell_type": "code",
   "execution_count": 41,
   "id": "61d1cc42-c586-470f-9062-48a74dabf2e6",
   "metadata": {},
   "outputs": [
    {
     "data": {
      "text/plain": [
       "Player                  object\n",
       "Matches                  int64\n",
       "Inns                     int64\n",
       "Not_Outs                 int64\n",
       "Runs                     int64\n",
       "Highest_Inns_Score       int64\n",
       "Ave                    float64\n",
       "Balls_Faced             object\n",
       "Batting_Strike_Rate    float64\n",
       "100                      int64\n",
       "50                       int64\n",
       "0                        int64\n",
       "4s                      object\n",
       "6s                       int64\n",
       "Rookie_Year              int64\n",
       "Final_Year               int64\n",
       "Country                 object\n",
       "dtype: object"
      ]
     },
     "execution_count": 41,
     "metadata": {},
     "output_type": "execute_result"
    }
   ],
   "source": [
    "cricket.dtypes"
   ]
  },
  {
   "cell_type": "markdown",
   "id": "731a1ad9-7478-47a1-8e12-a6b4dfcc33ed",
   "metadata": {},
   "source": [
    "### Step 9 : Add Career_Length column "
   ]
  },
  {
   "cell_type": "code",
   "execution_count": 42,
   "id": "ada5946b-4212-4c25-b60c-a10f5035bc5b",
   "metadata": {},
   "outputs": [],
   "source": [
    "cricket['Career_Length'] = cricket['Final_Year'] - cricket['Rookie_Year']"
   ]
  },
  {
   "cell_type": "code",
   "execution_count": 43,
   "id": "accf4365-00f1-4612-b34a-5f772c02b753",
   "metadata": {},
   "outputs": [
    {
     "data": {
      "text/plain": [
       "12.80952380952381"
      ]
     },
     "execution_count": 43,
     "metadata": {},
     "output_type": "execute_result"
    }
   ],
   "source": [
    "# Question 1: Calculate the mean Career_Length\n",
    "cricket['Career_Length'].mean()"
   ]
  },
  {
   "cell_type": "code",
   "execution_count": 44,
   "id": "5a456081-2561-454a-8089-ef4b333a0d0b",
   "metadata": {},
   "outputs": [
    {
     "data": {
      "text/plain": [
       "47.805116279069765"
      ]
     },
     "execution_count": 44,
     "metadata": {},
     "output_type": "execute_result"
    }
   ],
   "source": [
    "# Question 2: Average Batting_Strike_Rate for cricketers whose career length is more than 10 years\n",
    "cricket[cricket['Career_Length']>10]['Batting_Strike_Rate'].mean()"
   ]
  },
  {
   "cell_type": "code",
   "execution_count": 45,
   "id": "866d4a4c-a7b3-4291-8ab5-9c81cefdc764",
   "metadata": {},
   "outputs": [
    {
     "data": {
      "text/plain": [
       "23"
      ]
     },
     "execution_count": 45,
     "metadata": {},
     "output_type": "execute_result"
    }
   ],
   "source": [
    "# Question 3: Find the number of crickers who played before 1960\n",
    "cricket[cricket['Rookie_Year']<1960].shape[0]"
   ]
  },
  {
   "cell_type": "code",
   "execution_count": 46,
   "id": "d14d1fe9-6ce2-4cd0-a6a4-7caa99268ab0",
   "metadata": {},
   "outputs": [
    {
     "data": {
      "text/plain": [
       "Country\n",
       "ICC/WI     400\n",
       "AUS        380\n",
       "SL         374\n",
       "WI         365\n",
       "ENG        364\n",
       "ICC/PAK    329\n",
       "ICC/IND    319\n",
       "PAK        313\n",
       "SA         278\n",
       "ICC/SA     277\n",
       "NZ         251\n",
       "IND        248\n",
       "ZIM        232\n",
       "Name: Highest_Inns_Score, dtype: int64"
      ]
     },
     "execution_count": 46,
     "metadata": {},
     "output_type": "execute_result"
    }
   ],
   "source": [
    "# Question 4: Max Highest Inn Score by country\n",
    "cricket.groupby('Country')['Highest_Inns_Score'].max().sort_values(ascending = False)"
   ]
  },
  {
   "cell_type": "code",
   "execution_count": 47,
   "id": "2cd4696c-a431-4311-b941-f3fbeb2ab549",
   "metadata": {},
   "outputs": [
    {
     "data": {
      "text/html": [
       "<div>\n",
       "<style scoped>\n",
       "    .dataframe tbody tr th:only-of-type {\n",
       "        vertical-align: middle;\n",
       "    }\n",
       "\n",
       "    .dataframe tbody tr th {\n",
       "        vertical-align: top;\n",
       "    }\n",
       "\n",
       "    .dataframe thead th {\n",
       "        text-align: right;\n",
       "    }\n",
       "</style>\n",
       "<table border=\"1\" class=\"dataframe\">\n",
       "  <thead>\n",
       "    <tr style=\"text-align: right;\">\n",
       "      <th></th>\n",
       "      <th>100</th>\n",
       "      <th>50</th>\n",
       "      <th>0</th>\n",
       "    </tr>\n",
       "    <tr>\n",
       "      <th>Country</th>\n",
       "      <th></th>\n",
       "      <th></th>\n",
       "      <th></th>\n",
       "    </tr>\n",
       "  </thead>\n",
       "  <tbody>\n",
       "    <tr>\n",
       "      <th>AUS</th>\n",
       "      <td>21.533333</td>\n",
       "      <td>29.066667</td>\n",
       "      <td>8.933333</td>\n",
       "    </tr>\n",
       "    <tr>\n",
       "      <th>ENG</th>\n",
       "      <td>12.642857</td>\n",
       "      <td>20.571429</td>\n",
       "      <td>4.214286</td>\n",
       "    </tr>\n",
       "    <tr>\n",
       "      <th>ICC/IND</th>\n",
       "      <td>29.500000</td>\n",
       "      <td>47.500000</td>\n",
       "      <td>12.000000</td>\n",
       "    </tr>\n",
       "    <tr>\n",
       "      <th>ICC/PAK</th>\n",
       "      <td>25.000000</td>\n",
       "      <td>46.000000</td>\n",
       "      <td>15.000000</td>\n",
       "    </tr>\n",
       "    <tr>\n",
       "      <th>ICC/SA</th>\n",
       "      <td>36.000000</td>\n",
       "      <td>48.000000</td>\n",
       "      <td>13.500000</td>\n",
       "    </tr>\n",
       "    <tr>\n",
       "      <th>ICC/WI</th>\n",
       "      <td>34.000000</td>\n",
       "      <td>48.000000</td>\n",
       "      <td>17.000000</td>\n",
       "    </tr>\n",
       "    <tr>\n",
       "      <th>IND</th>\n",
       "      <td>23.750000</td>\n",
       "      <td>32.000000</td>\n",
       "      <td>8.500000</td>\n",
       "    </tr>\n",
       "    <tr>\n",
       "      <th>NZ</th>\n",
       "      <td>33.000000</td>\n",
       "      <td>37.000000</td>\n",
       "      <td>11.000000</td>\n",
       "    </tr>\n",
       "    <tr>\n",
       "      <th>PAK</th>\n",
       "      <td>17.800000</td>\n",
       "      <td>24.200000</td>\n",
       "      <td>8.000000</td>\n",
       "    </tr>\n",
       "    <tr>\n",
       "      <th>SA</th>\n",
       "      <td>9.800000</td>\n",
       "      <td>20.200000</td>\n",
       "      <td>3.400000</td>\n",
       "    </tr>\n",
       "    <tr>\n",
       "      <th>SL</th>\n",
       "      <td>22.750000</td>\n",
       "      <td>34.250000</td>\n",
       "      <td>9.250000</td>\n",
       "    </tr>\n",
       "    <tr>\n",
       "      <th>WI</th>\n",
       "      <td>16.625000</td>\n",
       "      <td>25.625000</td>\n",
       "      <td>7.250000</td>\n",
       "    </tr>\n",
       "    <tr>\n",
       "      <th>ZIM</th>\n",
       "      <td>12.000000</td>\n",
       "      <td>27.000000</td>\n",
       "      <td>5.000000</td>\n",
       "    </tr>\n",
       "  </tbody>\n",
       "</table>\n",
       "</div>"
      ],
      "text/plain": [
       "               100         50          0\n",
       "Country                                 \n",
       "AUS      21.533333  29.066667   8.933333\n",
       "ENG      12.642857  20.571429   4.214286\n",
       "ICC/IND  29.500000  47.500000  12.000000\n",
       "ICC/PAK  25.000000  46.000000  15.000000\n",
       "ICC/SA   36.000000  48.000000  13.500000\n",
       "ICC/WI   34.000000  48.000000  17.000000\n",
       "IND      23.750000  32.000000   8.500000\n",
       "NZ       33.000000  37.000000  11.000000\n",
       "PAK      17.800000  24.200000   8.000000\n",
       "SA        9.800000  20.200000   3.400000\n",
       "SL       22.750000  34.250000   9.250000\n",
       "WI       16.625000  25.625000   7.250000\n",
       "ZIM      12.000000  27.000000   5.000000"
      ]
     },
     "execution_count": 47,
     "metadata": {},
     "output_type": "execute_result"
    }
   ],
   "source": [
    "# Question 5: Top Hundreds, Fifties and 0 AVG by country\n",
    "cricket.groupby('Country')[['100','50','0']].mean()"
   ]
  }
 ],
 "metadata": {
  "kernelspec": {
   "display_name": "anaconda-2024.02-py310",
   "language": "python",
   "name": "conda-env-anaconda-2024.02-py310-py"
  },
  "language_info": {
   "codemirror_mode": {
    "name": "ipython",
    "version": 3
   },
   "file_extension": ".py",
   "mimetype": "text/x-python",
   "name": "python",
   "nbconvert_exporter": "python",
   "pygments_lexer": "ipython3",
   "version": "3.10.14"
  }
 },
 "nbformat": 4,
 "nbformat_minor": 5
}
